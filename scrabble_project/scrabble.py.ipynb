{
 "cells": [
  {
   "cell_type": "code",
   "execution_count": 24,
   "id": "2899238a",
   "metadata": {},
   "outputs": [],
   "source": [
    "\n",
    "from wordscore import score_word\n",
    "\n",
    "def run_scrabble(rack):\n",
    "    \"\"\"\n",
    "    Given a rack of 2-7 characters, finds all valid Scrabble words that can be made from the rack\n",
    "    and returns the words along with their Scrabble scores.\n",
    "    \n",
    "    The function also handles wildcard characters ('*' and '?').\n",
    "    \n",
    "    Parameters:\n",
    "    rack (str): A string containing 2 to 7 characters representing the Scrabble rack.\n",
    "    \n",
    "    Returns:\n",
    "    tuple: A sorted list of (score, word) tuples and the total number of valid words.\n",
    "    \"\"\"\n",
    "    # Handle invalid input\n",
    "    if not (2 <= len(rack) <= 7):\n",
    "        return \"Error: The rack must contain between 2 and 7 characters.\"\n",
    "    \n",
    "    # Load the list of valid Scrabble words from 'sowpods.txt'\n",
    "    with open(\"C:/Users/Samantha Townsend/Desktop/HW6/sowpods.txt\", \"r\") as infile:\n",
    "        raw_input = infile.readlines()\n",
    "        valid_words = [datum.strip().upper() for datum in raw_input]\n",
    "    \n",
    "    results = []\n",
    "\n",
    "    # Helper function to check if a word can be made from the rack\n",
    "    def can_form_word(rack, word):\n",
    "        rack_copy = list(rack.upper())\n",
    "        for letter in word:\n",
    "            if letter in rack_copy:\n",
    "                rack_copy.remove(letter)\n",
    "            elif '*' in rack_copy or '?' in rack_copy:\n",
    "                rack_copy.remove('*' if '*' in rack_copy else '?')\n",
    "            else:\n",
    "                return False\n",
    "        return True\n",
    "\n",
    "    # Find all valid words that can be made from the rack\n",
    "    for word in valid_words:\n",
    "        if can_form_word(rack, word):\n",
    "            word_score = score_word(word)\n",
    "            results.append((word_score, word))\n",
    "    \n",
    "    # Sort the results by score and alphabetically by word\n",
    "    sorted_results = sorted(results, key=lambda x: (-x[0], x[1]))\n",
    "\n",
    "    return sorted_results, len(sorted_results)\n"
   ]
  },
  {
   "cell_type": "code",
   "execution_count": null,
   "id": "39cad097",
   "metadata": {},
   "outputs": [],
   "source": [
    "\n"
   ]
  },
  {
   "cell_type": "code",
   "execution_count": null,
   "id": "a040d0ef",
   "metadata": {},
   "outputs": [],
   "source": []
  },
  {
   "cell_type": "code",
   "execution_count": null,
   "id": "3eba807c",
   "metadata": {},
   "outputs": [],
   "source": []
  }
 ],
 "metadata": {
  "kernelspec": {
   "display_name": "Python 3 (ipykernel)",
   "language": "python",
   "name": "python3"
  },
  "language_info": {
   "codemirror_mode": {
    "name": "ipython",
    "version": 3
   },
   "file_extension": ".py",
   "mimetype": "text/x-python",
   "name": "python",
   "nbconvert_exporter": "python",
   "pygments_lexer": "ipython3",
   "version": "3.8.5"
  }
 },
 "nbformat": 4,
 "nbformat_minor": 5
}
