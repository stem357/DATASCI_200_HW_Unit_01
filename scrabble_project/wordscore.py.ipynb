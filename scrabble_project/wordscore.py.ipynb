{
 "cells": [
  {
   "cell_type": "code",
   "execution_count": 18,
   "id": "e9987f4d",
   "metadata": {},
   "outputs": [],
   "source": [
    "# wordscore.py\n",
    "\"\"\"\n",
    "This module provides the function to score Scrabble words based on the Scrabble letter values.\n",
    "\"\"\"\n",
    "\n",
    "# Dictionary of letter scores\n",
    "scores = {\"a\": 1, \"c\": 3, \"b\": 3, \"e\": 1, \"d\": 2, \"g\": 2,\n",
    "         \"f\": 4, \"i\": 1, \"h\": 4, \"k\": 5, \"j\": 8, \"m\": 3,\n",
    "         \"l\": 1, \"o\": 1, \"n\": 1, \"q\": 10, \"p\": 3, \"s\": 1,\n",
    "         \"r\": 1, \"u\": 1, \"t\": 1, \"w\": 4, \"v\": 4, \"y\": 4,\n",
    "         \"x\": 8, \"z\": 10}\n",
    "\n",
    "def score_word(word):\n",
    "    \"\"\"\n",
    "    Given a word, returns the Scrabble score for that word.\n",
    "    \n",
    "    Wildcard characters ('*' or '?') are worth 0 points.\n",
    "    \n",
    "    Parameters:\n",
    "    word (str): The word to score.\n",
    "    \n",
    "    Returns:\n",
    "    int: The score of the word.\n",
    "    \"\"\"\n",
    "    total_score = 0\n",
    "    for letter in word.lower():\n",
    "        if letter in scores:\n",
    "            total_score += scores[letter]\n",
    "    return total_score\n"
   ]
  },
  {
   "cell_type": "code",
   "execution_count": null,
   "id": "46bd8f5b",
   "metadata": {},
   "outputs": [],
   "source": []
  },
  {
   "cell_type": "code",
   "execution_count": null,
   "id": "10498460",
   "metadata": {},
   "outputs": [],
   "source": []
  }
 ],
 "metadata": {
  "kernelspec": {
   "display_name": "Python 3 (ipykernel)",
   "language": "python",
   "name": "python3"
  },
  "language_info": {
   "codemirror_mode": {
    "name": "ipython",
    "version": 3
   },
   "file_extension": ".py",
   "mimetype": "text/x-python",
   "name": "python",
   "nbconvert_exporter": "python",
   "pygments_lexer": "ipython3",
   "version": "3.8.5"
  }
 },
 "nbformat": 4,
 "nbformat_minor": 5
}
