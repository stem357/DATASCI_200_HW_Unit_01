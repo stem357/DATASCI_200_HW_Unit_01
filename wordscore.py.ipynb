{
 "cells": [
  {
   "cell_type": "code",
   "execution_count": 12,
   "id": "998b4fc7",
   "metadata": {},
   "outputs": [],
   "source": [
    "# wordscore.py\n",
    "\n",
    "# Dictionary to hold Scrabble scores for each letter\n",
    "scores = {\n",
    "    \"a\": 1, \"c\": 3, \"b\": 3, \"e\": 1, \"d\": 2, \"g\": 2, \"f\": 4, \n",
    "    \"i\": 1, \"h\": 4, \"k\": 5, \"j\": 8, \"m\": 3, \"l\": 1, \"o\": 1, \n",
    "    \"n\": 1, \"q\": 10, \"p\": 3, \"s\": 1, \"r\": 1, \"u\": 1, \"t\": 1, \n",
    "    \"w\": 4, \"v\": 4, \"y\": 4, \"x\": 8, \"z\": 10\n",
    "}\n",
    "\n",
    "def score_word(word):\n",
    "    \"\"\"\n",
    "    Calculate the Scrabble score of a given word.\n",
    "    Wildcard characters ('*' or '?') are scored as 0 points.\n",
    "    \n",
    "    Args:\n",
    "        word (str): The word to score.\n",
    "    \n",
    "    Returns:\n",
    "        int: The total score of the word.\n",
    "    \"\"\"\n",
    "    return sum(scores.get(char.lower(), 0) for char in word)\n"
   ]
  },
  {
   "cell_type": "code",
   "execution_count": null,
   "id": "d1a9000d",
   "metadata": {},
   "outputs": [],
   "source": []
  }
 ],
 "metadata": {
  "kernelspec": {
   "display_name": "Python 3 (ipykernel)",
   "language": "python",
   "name": "python3"
  },
  "language_info": {
   "codemirror_mode": {
    "name": "ipython",
    "version": 3
   },
   "file_extension": ".py",
   "mimetype": "text/x-python",
   "name": "python",
   "nbconvert_exporter": "python",
   "pygments_lexer": "ipython3",
   "version": "3.8.5"
  }
 },
 "nbformat": 4,
 "nbformat_minor": 5
}
